{
  "nbformat": 4,
  "nbformat_minor": 0,
  "metadata": {
    "colab": {
      "provenance": []
    },
    "kernelspec": {
      "name": "python3",
      "display_name": "Python 3"
    },
    "language_info": {
      "name": "python"
    }
  },
  "cells": [
    {
      "cell_type": "code",
      "execution_count": 1,
      "metadata": {
        "id": "ywGvzaZcIbk_"
      },
      "outputs": [],
      "source": [
        "import pandas as pd\n",
        "import csv\n",
        "import os"
      ]
    },
    {
      "cell_type": "code",
      "source": [
        "df = pd.read_csv('final_dataset_of_encrypted_words.csv')\n",
        "print(df)\n",
        "count = df['encrypted_word'].count()"
      ],
      "metadata": {
        "colab": {
          "base_uri": "https://localhost:8080/"
        },
        "id": "13ogK-gOIhrb",
        "outputId": "957bcbd7-31b6-4288-af07-999aaf660dde"
      },
      "execution_count": 2,
      "outputs": [
        {
          "output_type": "stream",
          "name": "stdout",
          "text": [
            "                                          encrypted_word encryption_algorithm\n",
            "0                                                   zrug               сaesar\n",
            "1                                                 deedfb               сaesar\n",
            "2                                               degxfwru               сaesar\n",
            "3                                                   dedv               сaesar\n",
            "4                                              dedvhphqw               сaesar\n",
            "...                                                  ...                  ...\n",
            "84101  32aa6437fcdc0ede0cc060678e990beaf2dd785f011e42...               sha256\n",
            "84102  72917765c6d81db188ac22c0c221d17124311123d2d967...               sha256\n",
            "84103  118accfd965e5215a63affdb9185ddb6a6478399e2acf5...               sha256\n",
            "84104  c20755aa99b2d6d1a6167debc2cc0ca4e7d4e33a373517...               sha256\n",
            "84105  4bbf7d69a8ac0c2bda4329b26cef6d8f6dc50ee121d49d...               sha256\n",
            "\n",
            "[84106 rows x 2 columns]\n"
          ]
        }
      ]
    },
    {
      "cell_type": "code",
      "source": [
        "li = df['encrypted_word'].to_list()\n",
        "li2 = []\n",
        "for i in li:\n",
        "    t2b = ascii(int.from_bytes(i.encode(), 'big'))\n",
        "    li2.append(t2b[2:])"
      ],
      "metadata": {
        "id": "61elyNRWIljk"
      },
      "execution_count": 4,
      "outputs": []
    },
    {
      "cell_type": "code",
      "source": [
        "df['encrypted_word_in_binary_form'] = li2\n",
        "print(df)\n",
        "df.to_csv('output.csv')\n"
      ],
      "metadata": {
        "id": "ExLsPheAIn51",
        "colab": {
          "base_uri": "https://localhost:8080/"
        },
        "outputId": "41c888e1-0cb7-499c-c7d9-fa6157bff3f3"
      },
      "execution_count": 5,
      "outputs": [
        {
          "output_type": "stream",
          "name": "stdout",
          "text": [
            "                                          encrypted_word encryption_algorithm  \\\n",
            "0                                                   zrug               сaesar   \n",
            "1                                                 deedfb               сaesar   \n",
            "2                                               degxfwru               сaesar   \n",
            "3                                                   dedv               сaesar   \n",
            "4                                              dedvhphqw               сaesar   \n",
            "...                                                  ...                  ...   \n",
            "84101  32aa6437fcdc0ede0cc060678e990beaf2dd785f011e42...               sha256   \n",
            "84102  72917765c6d81db188ac22c0c221d17124311123d2d967...               sha256   \n",
            "84103  118accfd965e5215a63affdb9185ddb6a6478399e2acf5...               sha256   \n",
            "84104  c20755aa99b2d6d1a6167debc2cc0ca4e7d4e33a373517...               sha256   \n",
            "84105  4bbf7d69a8ac0c2bda4329b26cef6d8f6dc50ee121d49d...               sha256   \n",
            "\n",
            "                           encrypted_word_in_binary_form  \n",
            "0                                               54321511  \n",
            "1                                          0386655553122  \n",
            "2                                      34302143253410421  \n",
            "3                                               84366454  \n",
            "4                                   51980502057391518071  \n",
            "...                                                  ...  \n",
            "84101  8139390442351837468742882219815118881901450425...  \n",
            "84102  9085878679212359277222074556954052601304423895...  \n",
            "84103  7640805273605739669563015055922496889366818073...  \n",
            "84104  9531860094836294725911113538293043233053510821...  \n",
            "84105  4358914076439802954396924218830164606356325273...  \n",
            "\n",
            "[84106 rows x 3 columns]\n"
          ]
        }
      ]
    }
  ]
}